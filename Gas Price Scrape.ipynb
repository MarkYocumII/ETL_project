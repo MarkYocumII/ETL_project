{
 "cells": [
  {
   "cell_type": "markdown",
   "metadata": {},
   "source": [
    "# Scraping the Gas Price table\n",
    "### Price is updated daily"
   ]
  },
  {
   "cell_type": "code",
   "execution_count": 1,
   "metadata": {},
   "outputs": [],
   "source": [
    "#dependencies\n",
    "import pandas as pd\n",
    "from urllib.request import urlopen, Request\n",
    "from bs4 import BeautifulSoup\n",
    "import requests"
   ]
  },
  {
   "cell_type": "markdown",
   "metadata": {},
   "source": [
    "# Get Abbreviations by state"
   ]
  },
  {
   "cell_type": "code",
   "execution_count": 2,
   "metadata": {},
   "outputs": [],
   "source": [
    "#Decided to find a website to scrape the state abbreviations\n",
    "url_abv = \"https://abbreviations.yourdictionary.com/articles/state-abbrev.html\""
   ]
  },
  {
   "cell_type": "code",
   "execution_count": 3,
   "metadata": {},
   "outputs": [],
   "source": [
    "response = requests.get(url_abv)\n",
    "soup = BeautifulSoup(response.text, 'html.parser')"
   ]
  },
  {
   "cell_type": "code",
   "execution_count": 4,
   "metadata": {},
   "outputs": [],
   "source": [
    "#HTML inspect found the values in the li tag\n",
    "results = soup.find_all('li')"
   ]
  },
  {
   "cell_type": "code",
   "execution_count": 5,
   "metadata": {},
   "outputs": [
    {
     "data": {
      "text/plain": [
       "199"
      ]
     },
     "execution_count": 5,
     "metadata": {},
     "output_type": "execute_result"
    }
   ],
   "source": [
    "# total length of li\n",
    "len(results)"
   ]
  },
  {
   "cell_type": "code",
   "execution_count": 6,
   "metadata": {},
   "outputs": [],
   "source": [
    "#strip out only the first 50 li tags that contain the abbreviations\n",
    "ABV = []"
   ]
  },
  {
   "cell_type": "code",
   "execution_count": 7,
   "metadata": {},
   "outputs": [],
   "source": [
    "for i in range(0, 50):\n",
    "    results[i].text\n",
    "    ABV.append(results[i].text)"
   ]
  },
  {
   "cell_type": "code",
   "execution_count": 8,
   "metadata": {},
   "outputs": [
    {
     "data": {
      "text/plain": [
       "50"
      ]
     },
     "execution_count": 8,
     "metadata": {},
     "output_type": "execute_result"
    }
   ],
   "source": [
    "len(ABV)"
   ]
  },
  {
   "cell_type": "code",
   "execution_count": 9,
   "metadata": {},
   "outputs": [],
   "source": [
    "#Take the new list and seperate the abbreviations into a new list\n",
    "ABV_new = []\n",
    "State_name = []"
   ]
  },
  {
   "cell_type": "code",
   "execution_count": 10,
   "metadata": {},
   "outputs": [],
   "source": [
    "for i in range(0, 50):\n",
    "    ABV_clean = ABV[i].split(' - ')[1]\n",
    "    ABV_new.append(ABV_clean.replace(' ',''))"
   ]
  },
  {
   "cell_type": "code",
   "execution_count": 11,
   "metadata": {},
   "outputs": [],
   "source": [
    "for i in range(0, 50):\n",
    "    ABV_clean = ABV[i].split(' - ')[0]\n",
    "    State_name.append(ABV_clean.replace(' ',''))"
   ]
  },
  {
   "cell_type": "code",
   "execution_count": 15,
   "metadata": {},
   "outputs": [],
   "source": [
    "All_States_df = pd.DataFrame({'State':State_name,\n",
    "                           'Abbreviation':ABV_new                   \n",
    "})"
   ]
  },
  {
   "cell_type": "code",
   "execution_count": 16,
   "metadata": {},
   "outputs": [
    {
     "data": {
      "text/html": [
       "<div>\n",
       "<style scoped>\n",
       "    .dataframe tbody tr th:only-of-type {\n",
       "        vertical-align: middle;\n",
       "    }\n",
       "\n",
       "    .dataframe tbody tr th {\n",
       "        vertical-align: top;\n",
       "    }\n",
       "\n",
       "    .dataframe thead th {\n",
       "        text-align: right;\n",
       "    }\n",
       "</style>\n",
       "<table border=\"1\" class=\"dataframe\">\n",
       "  <thead>\n",
       "    <tr style=\"text-align: right;\">\n",
       "      <th></th>\n",
       "      <th>State</th>\n",
       "      <th>Abbreviation</th>\n",
       "    </tr>\n",
       "  </thead>\n",
       "  <tbody>\n",
       "    <tr>\n",
       "      <th>0</th>\n",
       "      <td>Alabama</td>\n",
       "      <td>AL</td>\n",
       "    </tr>\n",
       "    <tr>\n",
       "      <th>1</th>\n",
       "      <td>Alaska</td>\n",
       "      <td>AK</td>\n",
       "    </tr>\n",
       "    <tr>\n",
       "      <th>2</th>\n",
       "      <td>Arizona</td>\n",
       "      <td>AZ</td>\n",
       "    </tr>\n",
       "    <tr>\n",
       "      <th>3</th>\n",
       "      <td>Arkansas</td>\n",
       "      <td>AR</td>\n",
       "    </tr>\n",
       "    <tr>\n",
       "      <th>4</th>\n",
       "      <td>California</td>\n",
       "      <td>CA</td>\n",
       "    </tr>\n",
       "    <tr>\n",
       "      <th>5</th>\n",
       "      <td>Colorado</td>\n",
       "      <td>CO</td>\n",
       "    </tr>\n",
       "    <tr>\n",
       "      <th>6</th>\n",
       "      <td>Connecticut</td>\n",
       "      <td>CT</td>\n",
       "    </tr>\n",
       "    <tr>\n",
       "      <th>7</th>\n",
       "      <td>Delaware</td>\n",
       "      <td>DE</td>\n",
       "    </tr>\n",
       "    <tr>\n",
       "      <th>8</th>\n",
       "      <td>Florida</td>\n",
       "      <td>FL</td>\n",
       "    </tr>\n",
       "    <tr>\n",
       "      <th>9</th>\n",
       "      <td>Georgia</td>\n",
       "      <td>GA</td>\n",
       "    </tr>\n",
       "    <tr>\n",
       "      <th>10</th>\n",
       "      <td>Hawaii</td>\n",
       "      <td>HI</td>\n",
       "    </tr>\n",
       "    <tr>\n",
       "      <th>11</th>\n",
       "      <td>Idaho</td>\n",
       "      <td>ID</td>\n",
       "    </tr>\n",
       "    <tr>\n",
       "      <th>12</th>\n",
       "      <td>Illinois</td>\n",
       "      <td>IL</td>\n",
       "    </tr>\n",
       "    <tr>\n",
       "      <th>13</th>\n",
       "      <td>Indiana</td>\n",
       "      <td>IN</td>\n",
       "    </tr>\n",
       "    <tr>\n",
       "      <th>14</th>\n",
       "      <td>Iowa</td>\n",
       "      <td>IA</td>\n",
       "    </tr>\n",
       "    <tr>\n",
       "      <th>15</th>\n",
       "      <td>Kansas</td>\n",
       "      <td>KS</td>\n",
       "    </tr>\n",
       "    <tr>\n",
       "      <th>16</th>\n",
       "      <td>Kentucky</td>\n",
       "      <td>KY</td>\n",
       "    </tr>\n",
       "    <tr>\n",
       "      <th>17</th>\n",
       "      <td>Louisiana</td>\n",
       "      <td>LA</td>\n",
       "    </tr>\n",
       "    <tr>\n",
       "      <th>18</th>\n",
       "      <td>Maine</td>\n",
       "      <td>ME</td>\n",
       "    </tr>\n",
       "    <tr>\n",
       "      <th>19</th>\n",
       "      <td>Maryland</td>\n",
       "      <td>MD</td>\n",
       "    </tr>\n",
       "    <tr>\n",
       "      <th>20</th>\n",
       "      <td>Massachusetts</td>\n",
       "      <td>MA</td>\n",
       "    </tr>\n",
       "    <tr>\n",
       "      <th>21</th>\n",
       "      <td>Michigan</td>\n",
       "      <td>MI</td>\n",
       "    </tr>\n",
       "    <tr>\n",
       "      <th>22</th>\n",
       "      <td>Minnesota</td>\n",
       "      <td>MN</td>\n",
       "    </tr>\n",
       "    <tr>\n",
       "      <th>23</th>\n",
       "      <td>Mississippi</td>\n",
       "      <td>MS</td>\n",
       "    </tr>\n",
       "    <tr>\n",
       "      <th>24</th>\n",
       "      <td>Missouri</td>\n",
       "      <td>MO</td>\n",
       "    </tr>\n",
       "    <tr>\n",
       "      <th>25</th>\n",
       "      <td>Montana</td>\n",
       "      <td>MT</td>\n",
       "    </tr>\n",
       "    <tr>\n",
       "      <th>26</th>\n",
       "      <td>Nebraska</td>\n",
       "      <td>NE</td>\n",
       "    </tr>\n",
       "    <tr>\n",
       "      <th>27</th>\n",
       "      <td>Nevada</td>\n",
       "      <td>NV</td>\n",
       "    </tr>\n",
       "    <tr>\n",
       "      <th>28</th>\n",
       "      <td>NewHampshire</td>\n",
       "      <td>NH</td>\n",
       "    </tr>\n",
       "    <tr>\n",
       "      <th>29</th>\n",
       "      <td>NewJersey</td>\n",
       "      <td>NJ</td>\n",
       "    </tr>\n",
       "    <tr>\n",
       "      <th>30</th>\n",
       "      <td>NewMexico</td>\n",
       "      <td>NM</td>\n",
       "    </tr>\n",
       "    <tr>\n",
       "      <th>31</th>\n",
       "      <td>NewYork</td>\n",
       "      <td>NY</td>\n",
       "    </tr>\n",
       "    <tr>\n",
       "      <th>32</th>\n",
       "      <td>NorthCarolina</td>\n",
       "      <td>NC</td>\n",
       "    </tr>\n",
       "    <tr>\n",
       "      <th>33</th>\n",
       "      <td>NorthDakota</td>\n",
       "      <td>ND</td>\n",
       "    </tr>\n",
       "    <tr>\n",
       "      <th>34</th>\n",
       "      <td>Ohio</td>\n",
       "      <td>OH</td>\n",
       "    </tr>\n",
       "    <tr>\n",
       "      <th>35</th>\n",
       "      <td>Oklahoma</td>\n",
       "      <td>OK</td>\n",
       "    </tr>\n",
       "    <tr>\n",
       "      <th>36</th>\n",
       "      <td>Oregon</td>\n",
       "      <td>OR</td>\n",
       "    </tr>\n",
       "    <tr>\n",
       "      <th>37</th>\n",
       "      <td>Pennsylvania</td>\n",
       "      <td>PA</td>\n",
       "    </tr>\n",
       "    <tr>\n",
       "      <th>38</th>\n",
       "      <td>RhodeIsland</td>\n",
       "      <td>RI</td>\n",
       "    </tr>\n",
       "    <tr>\n",
       "      <th>39</th>\n",
       "      <td>SouthCarolina</td>\n",
       "      <td>SC</td>\n",
       "    </tr>\n",
       "    <tr>\n",
       "      <th>40</th>\n",
       "      <td>SouthDakota</td>\n",
       "      <td>SD</td>\n",
       "    </tr>\n",
       "    <tr>\n",
       "      <th>41</th>\n",
       "      <td>Tennessee</td>\n",
       "      <td>TN</td>\n",
       "    </tr>\n",
       "    <tr>\n",
       "      <th>42</th>\n",
       "      <td>Texas</td>\n",
       "      <td>TX</td>\n",
       "    </tr>\n",
       "    <tr>\n",
       "      <th>43</th>\n",
       "      <td>Utah</td>\n",
       "      <td>UT</td>\n",
       "    </tr>\n",
       "    <tr>\n",
       "      <th>44</th>\n",
       "      <td>Vermont</td>\n",
       "      <td>VT</td>\n",
       "    </tr>\n",
       "    <tr>\n",
       "      <th>45</th>\n",
       "      <td>Virginia</td>\n",
       "      <td>VA</td>\n",
       "    </tr>\n",
       "    <tr>\n",
       "      <th>46</th>\n",
       "      <td>Washington</td>\n",
       "      <td>WA</td>\n",
       "    </tr>\n",
       "    <tr>\n",
       "      <th>47</th>\n",
       "      <td>WestVirginia</td>\n",
       "      <td>WV</td>\n",
       "    </tr>\n",
       "    <tr>\n",
       "      <th>48</th>\n",
       "      <td>Wisconsin</td>\n",
       "      <td>WI</td>\n",
       "    </tr>\n",
       "    <tr>\n",
       "      <th>49</th>\n",
       "      <td>Wyoming</td>\n",
       "      <td>WY</td>\n",
       "    </tr>\n",
       "  </tbody>\n",
       "</table>\n",
       "</div>"
      ],
      "text/plain": [
       "            State Abbreviation\n",
       "0         Alabama           AL\n",
       "1          Alaska           AK\n",
       "2         Arizona           AZ\n",
       "3        Arkansas           AR\n",
       "4      California           CA\n",
       "5        Colorado           CO\n",
       "6     Connecticut           CT\n",
       "7        Delaware           DE\n",
       "8         Florida           FL\n",
       "9         Georgia           GA\n",
       "10         Hawaii           HI\n",
       "11          Idaho           ID\n",
       "12       Illinois           IL\n",
       "13        Indiana           IN\n",
       "14           Iowa           IA\n",
       "15         Kansas           KS\n",
       "16       Kentucky           KY\n",
       "17      Louisiana           LA\n",
       "18          Maine           ME\n",
       "19       Maryland           MD\n",
       "20  Massachusetts           MA\n",
       "21       Michigan           MI\n",
       "22      Minnesota           MN\n",
       "23    Mississippi           MS\n",
       "24       Missouri           MO\n",
       "25        Montana           MT\n",
       "26       Nebraska           NE\n",
       "27         Nevada           NV\n",
       "28   NewHampshire           NH\n",
       "29      NewJersey           NJ\n",
       "30      NewMexico           NM\n",
       "31        NewYork           NY\n",
       "32  NorthCarolina           NC\n",
       "33    NorthDakota           ND\n",
       "34           Ohio           OH\n",
       "35       Oklahoma           OK\n",
       "36         Oregon           OR\n",
       "37   Pennsylvania           PA\n",
       "38    RhodeIsland           RI\n",
       "39  SouthCarolina           SC\n",
       "40    SouthDakota           SD\n",
       "41      Tennessee           TN\n",
       "42          Texas           TX\n",
       "43           Utah           UT\n",
       "44        Vermont           VT\n",
       "45       Virginia           VA\n",
       "46     Washington           WA\n",
       "47   WestVirginia           WV\n",
       "48      Wisconsin           WI\n",
       "49        Wyoming           WY"
      ]
     },
     "execution_count": 16,
     "metadata": {},
     "output_type": "execute_result"
    }
   ],
   "source": [
    "All_States_df"
   ]
  },
  {
   "cell_type": "markdown",
   "metadata": {},
   "source": [
    "# Getting the Gas Prices per State"
   ]
  },
  {
   "cell_type": "code",
   "execution_count": 17,
   "metadata": {},
   "outputs": [],
   "source": [
    "#Appened the abbriviations list to the URL to get all 50 states url\n",
    "url = \"https://gasprices.aaa.com/?state=\"\n",
    "\n",
    "GasPrice_State_urls = []\n",
    "\n",
    "for i in range(0, 50):\n",
    "    GasPrice_State_urls.append(url+ABV_new[i])"
   ]
  },
  {
   "cell_type": "code",
   "execution_count": 18,
   "metadata": {},
   "outputs": [],
   "source": [
    "Scraped_df = []\n",
    "Final_df = pd.DataFrame()"
   ]
  },
  {
   "cell_type": "code",
   "execution_count": 19,
   "metadata": {},
   "outputs": [
    {
     "data": {
      "text/plain": [
       "['https://gasprices.aaa.com/?state=AL',\n",
       " 'https://gasprices.aaa.com/?state=AK',\n",
       " 'https://gasprices.aaa.com/?state=AZ',\n",
       " 'https://gasprices.aaa.com/?state=AR',\n",
       " 'https://gasprices.aaa.com/?state=CA',\n",
       " 'https://gasprices.aaa.com/?state=CO',\n",
       " 'https://gasprices.aaa.com/?state=CT',\n",
       " 'https://gasprices.aaa.com/?state=DE',\n",
       " 'https://gasprices.aaa.com/?state=FL',\n",
       " 'https://gasprices.aaa.com/?state=GA',\n",
       " 'https://gasprices.aaa.com/?state=HI',\n",
       " 'https://gasprices.aaa.com/?state=ID',\n",
       " 'https://gasprices.aaa.com/?state=IL',\n",
       " 'https://gasprices.aaa.com/?state=IN',\n",
       " 'https://gasprices.aaa.com/?state=IA',\n",
       " 'https://gasprices.aaa.com/?state=KS',\n",
       " 'https://gasprices.aaa.com/?state=KY',\n",
       " 'https://gasprices.aaa.com/?state=LA',\n",
       " 'https://gasprices.aaa.com/?state=ME',\n",
       " 'https://gasprices.aaa.com/?state=MD',\n",
       " 'https://gasprices.aaa.com/?state=MA',\n",
       " 'https://gasprices.aaa.com/?state=MI',\n",
       " 'https://gasprices.aaa.com/?state=MN',\n",
       " 'https://gasprices.aaa.com/?state=MS',\n",
       " 'https://gasprices.aaa.com/?state=MO',\n",
       " 'https://gasprices.aaa.com/?state=MT',\n",
       " 'https://gasprices.aaa.com/?state=NE',\n",
       " 'https://gasprices.aaa.com/?state=NV',\n",
       " 'https://gasprices.aaa.com/?state=NH',\n",
       " 'https://gasprices.aaa.com/?state=NJ',\n",
       " 'https://gasprices.aaa.com/?state=NM',\n",
       " 'https://gasprices.aaa.com/?state=NY',\n",
       " 'https://gasprices.aaa.com/?state=NC',\n",
       " 'https://gasprices.aaa.com/?state=ND',\n",
       " 'https://gasprices.aaa.com/?state=OH',\n",
       " 'https://gasprices.aaa.com/?state=OK',\n",
       " 'https://gasprices.aaa.com/?state=OR',\n",
       " 'https://gasprices.aaa.com/?state=PA',\n",
       " 'https://gasprices.aaa.com/?state=RI',\n",
       " 'https://gasprices.aaa.com/?state=SC',\n",
       " 'https://gasprices.aaa.com/?state=SD',\n",
       " 'https://gasprices.aaa.com/?state=TN',\n",
       " 'https://gasprices.aaa.com/?state=TX',\n",
       " 'https://gasprices.aaa.com/?state=UT',\n",
       " 'https://gasprices.aaa.com/?state=VT',\n",
       " 'https://gasprices.aaa.com/?state=VA',\n",
       " 'https://gasprices.aaa.com/?state=WA',\n",
       " 'https://gasprices.aaa.com/?state=WV',\n",
       " 'https://gasprices.aaa.com/?state=WI',\n",
       " 'https://gasprices.aaa.com/?state=WY']"
      ]
     },
     "execution_count": 19,
     "metadata": {},
     "output_type": "execute_result"
    }
   ],
   "source": [
    "GasPrice_State_urls"
   ]
  },
  {
   "cell_type": "code",
   "execution_count": null,
   "metadata": {},
   "outputs": [],
   "source": [
    "for i in range(0, 50):\n",
    "    agent = 'Mozilla/5.0 (Macintosh; Intel Mac OS X 10_9_3) AppleWebKit/537.36\\\n",
    "    (KHTML, like Gecko) Chrome/35.0.1916.47 Safari/537.36'\n",
    "    \n",
    "    url = GasPrice_State_urls[i]\n",
    "    \n",
    "    request = Request(url, headers={'User-Agent': agent})\n",
    "\n",
    "    html = urlopen(request).read().decode()\n",
    "    \n",
    "    tables = pd.read_html(html)\n",
    "    \n",
    "    df = tables[0]\n",
    "    \n",
    "    df[\"state\"] = ABV_new[i]\n",
    "    \n",
    "    Scraped_df.append(df)"
   ]
  },
  {
   "cell_type": "code",
   "execution_count": null,
   "metadata": {},
   "outputs": [],
   "source": [
    "for i in range(0,49):\n",
    "    Final_df = Final_df.append(Scraped_df[i])"
   ]
  },
  {
   "cell_type": "code",
   "execution_count": null,
   "metadata": {},
   "outputs": [],
   "source": [
    "Final_df = Final_df.rename(columns={'Unnamed: 0': 'Averages',\n",
    "                                    'Mid-Grade':'MidGrade'\n",
    "                                   })"
   ]
  },
  {
   "cell_type": "code",
   "execution_count": null,
   "metadata": {},
   "outputs": [],
   "source": [
    "Final_df.set_index('state')"
   ]
  },
  {
   "cell_type": "markdown",
   "metadata": {},
   "source": [
    "# SQL connection"
   ]
  },
  {
   "cell_type": "code",
   "execution_count": 20,
   "metadata": {},
   "outputs": [],
   "source": [
    "import pymysql\n",
    "pymysql.install_as_MySQLdb()\n",
    "\n",
    "from sqlalchemy.ext.declarative import declarative_base\n",
    "Base = declarative_base()\n",
    "\n",
    "from sqlalchemy import Column, Integer, String, Float\n",
    "\n",
    "from sqlalchemy import create_engine"
   ]
  },
  {
   "cell_type": "code",
   "execution_count": 21,
   "metadata": {},
   "outputs": [],
   "source": [
    "dbuser = 'root'\n",
    "dbpassword = 'Rosenhyf1!'\n",
    "dbhost = 'localhost'\n",
    "dbport = '3306'\n",
    "dbname= 'etl_db'\n",
    "\n",
    "engine = create_engine(f\"mysql://{dbuser}:{dbpassword}@{dbhost}:{dbport}/{dbname}\")\n",
    "Base.metadata.create_all(engine)"
   ]
  },
  {
   "cell_type": "code",
   "execution_count": 22,
   "metadata": {},
   "outputs": [],
   "source": [
    "from sqlalchemy.orm import Session\n",
    "session = Session(bind=engine)"
   ]
  },
  {
   "cell_type": "code",
   "execution_count": null,
   "metadata": {},
   "outputs": [],
   "source": [
    "Final_df.to_sql('gasprices', engine, index=True, if_exists='replace')"
   ]
  },
  {
   "cell_type": "code",
   "execution_count": 25,
   "metadata": {},
   "outputs": [],
   "source": [
    "All_States_df.to_sql('states', engine, index=True, if_exists='replace')"
   ]
  },
  {
   "cell_type": "code",
   "execution_count": null,
   "metadata": {},
   "outputs": [],
   "source": []
  },
  {
   "cell_type": "code",
   "execution_count": null,
   "metadata": {},
   "outputs": [],
   "source": []
  }
 ],
 "metadata": {
  "kernelspec": {
   "display_name": "Python 3",
   "language": "python",
   "name": "python3"
  },
  "language_info": {
   "codemirror_mode": {
    "name": "ipython",
    "version": 3
   },
   "file_extension": ".py",
   "mimetype": "text/x-python",
   "name": "python",
   "nbconvert_exporter": "python",
   "pygments_lexer": "ipython3",
   "version": "3.7.0"
  }
 },
 "nbformat": 4,
 "nbformat_minor": 2
}
